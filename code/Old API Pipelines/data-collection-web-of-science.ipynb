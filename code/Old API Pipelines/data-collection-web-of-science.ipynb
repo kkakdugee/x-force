{
 "cells": [
  {
   "attachments": {},
   "cell_type": "markdown",
   "metadata": {},
   "source": [
    "# Intro"
   ]
  },
  {
   "attachments": {},
   "cell_type": "markdown",
   "metadata": {},
   "source": [
    "## Description"
   ]
  },
  {
   "attachments": {},
   "cell_type": "markdown",
   "metadata": {},
   "source": [
    "This notebook contains the pipeline for querying and storing Google Scholar data into csv files."
   ]
  },
  {
   "attachments": {},
   "cell_type": "markdown",
   "metadata": {},
   "source": [
    "## Imports"
   ]
  },
  {
   "cell_type": "code",
   "execution_count": 4,
   "metadata": {},
   "outputs": [],
   "source": [
    "import pandas as pd\n",
    "import matplotlib.pyplot as plt\n",
    "import numpy as np\n",
    "import requests"
   ]
  },
  {
   "attachments": {},
   "cell_type": "markdown",
   "metadata": {},
   "source": [
    "## Global Variables and Script Setup"
   ]
  },
  {
   "cell_type": "code",
   "execution_count": 9,
   "metadata": {},
   "outputs": [
    {
     "ename": "ImportError",
     "evalue": "cannot import name 'SEARCH_QUERY' from 'helper' (c:\\Users\\chris\\OneDrive\\Documents\\GitHub\\dod-nsin-xforce\\x-force\\code\\helper.py)",
     "output_type": "error",
     "traceback": [
      "\u001b[1;31m---------------------------------------------------------------------------\u001b[0m",
      "\u001b[1;31mImportError\u001b[0m                               Traceback (most recent call last)",
      "Cell \u001b[1;32mIn[9], line 4\u001b[0m\n\u001b[0;32m      1\u001b[0m \u001b[39mfrom\u001b[39;00m \u001b[39mmy_api_key\u001b[39;00m \u001b[39mimport\u001b[39;00m api_key\n\u001b[0;32m      2\u001b[0m API_KEY \u001b[39m=\u001b[39m api_key\n\u001b[1;32m----> 4\u001b[0m \u001b[39mfrom\u001b[39;00m \u001b[39mhelper\u001b[39;00m \u001b[39mimport\u001b[39;00m MASTER_CSV_COLUMNS, SEARCH_QUERY\n\u001b[0;32m      6\u001b[0m my_query \u001b[39m=\u001b[39m SEARCH_QUERY\n",
      "\u001b[1;31mImportError\u001b[0m: cannot import name 'SEARCH_QUERY' from 'helper' (c:\\Users\\chris\\OneDrive\\Documents\\GitHub\\dod-nsin-xforce\\x-force\\code\\helper.py)"
     ]
    }
   ],
   "source": [
    "from my_api_key import api_key\n",
    "API_KEY = api_key\n",
    "\n",
    "from helper import MASTER_CSV_COLUMNS, SEARCH_QUERY\n",
    "\n",
    "my_query = SEARCH_QUERY"
   ]
  },
  {
   "attachments": {},
   "cell_type": "markdown",
   "metadata": {},
   "source": [
    "# Code"
   ]
  },
  {
   "cell_type": "code",
   "execution_count": 6,
   "metadata": {},
   "outputs": [
    {
     "data": {
      "text/html": [
       "<div>\n",
       "<style scoped>\n",
       "    .dataframe tbody tr th:only-of-type {\n",
       "        vertical-align: middle;\n",
       "    }\n",
       "\n",
       "    .dataframe tbody tr th {\n",
       "        vertical-align: top;\n",
       "    }\n",
       "\n",
       "    .dataframe thead th {\n",
       "        text-align: right;\n",
       "    }\n",
       "</style>\n",
       "<table border=\"1\" class=\"dataframe\">\n",
       "  <thead>\n",
       "    <tr style=\"text-align: right;\">\n",
       "      <th></th>\n",
       "      <th>title</th>\n",
       "      <th>authors</th>\n",
       "      <th>schools</th>\n",
       "      <th>countries</th>\n",
       "      <th>year of publication</th>\n",
       "      <th>abstract text</th>\n",
       "      <th>url</th>\n",
       "      <th>citation count</th>\n",
       "    </tr>\n",
       "  </thead>\n",
       "  <tbody>\n",
       "  </tbody>\n",
       "</table>\n",
       "</div>"
      ],
      "text/plain": [
       "Empty DataFrame\n",
       "Columns: [title, authors, schools, countries, year of publication, abstract text, url, citation count]\n",
       "Index: []"
      ]
     },
     "execution_count": 6,
     "metadata": {},
     "output_type": "execute_result"
    }
   ],
   "source": [
    "test = pd.DataFrame(columns=MASTER_CSV_COLUMNS)\n",
    "test\n",
    "# test.to_csv(\"../data/_.csv\")"
   ]
  },
  {
   "cell_type": "code",
   "execution_count": 39,
   "metadata": {},
   "outputs": [],
   "source": [
    "def fetch_paper_details(query):\n",
    "    headers = {'X-ApiKey': API_KEY}\n",
    "    params = {'databaseId': 'WOS', 'query': query, 'count': 10}\n",
    "    response = requests.get('https://api.clarivate.com/api/wos/?', headers=headers, params=params)\n",
    "\n",
    "    if response.status_code == 200:\n",
    "        data = response.json()\n",
    "        records = data['Data']['Records']\n",
    "        for record in records:\n",
    "            title = record['title']['value']\n",
    "            abstract = record.get('abstract', {}).get('value', 'No abstract available')\n",
    "            authors = [author['fullName'] for author in record.get('authors', [])]\n",
    "            doi = record['doi'] if 'doi' in record else 'DOI not available'\n",
    "            print('Title:', title)\n",
    "            print('Abstract:', abstract)\n",
    "            print('Authors:', authors)\n",
    "            print('DOI:', doi)\n",
    "            print('---')\n",
    "    else:\n",
    "        print('Error:', response.status_code)\n",
    "\n",
    "fetch_paper_details(SEARCH_QUERY)"
   ]
  },
  {
   "cell_type": "code",
   "execution_count": 43,
   "metadata": {},
   "outputs": [
    {
     "name": "stdout",
     "output_type": "stream",
     "text": [
      "b\"{'author_id': ['4bahYMkAAAAJ', 'ruUKktgAAAAJ', '9XRvM88AAAAJ'],\\n 'bib': {'abstract': 'Humans can judge from vision alone whether an object is '\\n                     'physically stable or not. Such judgments allow observers '\\n                     'to predict the physical behavior of objects, and hence '\\n                     'to guide their motor actions. We investigated the visual '\\n                     'estimation of physical stability of 3-D objects (shown '\\n                     'in stereoscopically viewed rendered scenes) and how it '\\n                     'relates to visual estimates of their center of mass '\\n                     '(COM). In Experiment 1, observers viewed an object near '\\n                     'the edge of a table and adjusted its tilt to the '\\n                     'perceived critical angle, ie, the tilt angle at which '\\n                     'the object',\\n         'author': ['SA Cholewiak', 'RW Fleming', 'M Singh'],\\n         'pub_year': '2015',\\n         'title': 'Perception of physical stability and center of mass of 3-D '\\n                  'objects',\\n         'venue': 'Journal of vision'},\\n 'citedby_url': '/scholar?cites=15736880631888070187&as_sdt=5,33&sciodt=0,33&hl=en',\\n 'eprint_url': 'https://jov.arvojournals.org/article.aspx?articleID=2213254',\\n 'filled': False,\\n 'gsrank': 1,\\n 'num_citations': 27,\\n 'pub_url': 'https://jov.arvojournals.org/article.aspx?articleID=2213254',\\n 'source': 'PUBLICATION_SEARCH_SNIPPET',\\n 'url_add_sclib': '/citations?hl=en&xsrf=&continue=/scholar%3Fq%3DPerception%2Bof%2Bphysical%2Bstability%2Band%2Bcenter%2Bof%2Bmass%2Bof%2B3D%2Bobjects%26hl%3Den%26as_sdt%3D0,33&citilm=1&update_op=library_add&info=K8ZpoI6hZNoJ&ei=OEyHZI-yBoWEywTGmJCYBg&json=',\\n 'url_related_articles': '/scholar?q=related:K8ZpoI6hZNoJ:scholar.google.com/&scioq=Perception+of+physical+stability+and+center+of+mass+of+3D+objects&hl=en&as_sdt=0,33',\\n 'url_scholarbib': '/scholar?hl=en&q=info:K8ZpoI6hZNoJ:scholar.google.com/&output=cite&scirp=0&hl=en'}\"\n"
     ]
    }
   ],
   "source": [
    "search_query = scholarly.search_pubs('Perception of physical stability and center of mass of 3D objects')\n",
    "test = next(search_query)\n",
    "scholarly.pprint(test)"
   ]
  },
  {
   "cell_type": "code",
   "execution_count": 44,
   "metadata": {},
   "outputs": [
    {
     "data": {
      "text/html": [
       "<div>\n",
       "<style scoped>\n",
       "    .dataframe tbody tr th:only-of-type {\n",
       "        vertical-align: middle;\n",
       "    }\n",
       "\n",
       "    .dataframe tbody tr th {\n",
       "        vertical-align: top;\n",
       "    }\n",
       "\n",
       "    .dataframe thead th {\n",
       "        text-align: right;\n",
       "    }\n",
       "</style>\n",
       "<table border=\"1\" class=\"dataframe\">\n",
       "  <thead>\n",
       "    <tr style=\"text-align: right;\">\n",
       "      <th></th>\n",
       "      <th>title</th>\n",
       "      <th>author</th>\n",
       "      <th>pub_year</th>\n",
       "      <th>venue</th>\n",
       "      <th>abstract</th>\n",
       "      <th>pub_url</th>\n",
       "      <th>num_citations</th>\n",
       "      <th>container_type</th>\n",
       "      <th>source</th>\n",
       "      <th>filled</th>\n",
       "      <th>gsrank</th>\n",
       "      <th>author_id</th>\n",
       "      <th>url_scholarbib</th>\n",
       "      <th>url_add_sclib</th>\n",
       "      <th>citedby_url</th>\n",
       "      <th>url_related_articles</th>\n",
       "      <th>eprint_url</th>\n",
       "    </tr>\n",
       "  </thead>\n",
       "  <tbody>\n",
       "    <tr>\n",
       "      <th>0</th>\n",
       "      <td>Perception of physical stability and center of...</td>\n",
       "      <td>[SA Cholewiak, RW Fleming, M Singh]</td>\n",
       "      <td>2015</td>\n",
       "      <td>Journal of vision</td>\n",
       "      <td>Humans can judge from vision alone whether an ...</td>\n",
       "      <td>https://jov.arvojournals.org/article.aspx?arti...</td>\n",
       "      <td>27</td>\n",
       "      <td>Publication</td>\n",
       "      <td>PublicationSource.PUBLICATION_SEARCH_SNIPPET</td>\n",
       "      <td>False</td>\n",
       "      <td>1</td>\n",
       "      <td>[4bahYMkAAAAJ, ruUKktgAAAAJ, 9XRvM88AAAAJ]</td>\n",
       "      <td>/scholar?hl=en&amp;q=info:K8ZpoI6hZNoJ:scholar.goo...</td>\n",
       "      <td>/citations?hl=en&amp;xsrf=&amp;continue=/scholar%3Fq%3...</td>\n",
       "      <td>/scholar?cites=15736880631888070187&amp;as_sdt=5,3...</td>\n",
       "      <td>/scholar?q=related:K8ZpoI6hZNoJ:scholar.google...</td>\n",
       "      <td>https://jov.arvojournals.org/article.aspx?arti...</td>\n",
       "    </tr>\n",
       "  </tbody>\n",
       "</table>\n",
       "</div>"
      ],
      "text/plain": [
       "                                               title  \\\n",
       "0  Perception of physical stability and center of...   \n",
       "\n",
       "                                author pub_year              venue  \\\n",
       "0  [SA Cholewiak, RW Fleming, M Singh]     2015  Journal of vision   \n",
       "\n",
       "                                            abstract  \\\n",
       "0  Humans can judge from vision alone whether an ...   \n",
       "\n",
       "                                             pub_url  num_citations  \\\n",
       "0  https://jov.arvojournals.org/article.aspx?arti...             27   \n",
       "\n",
       "  container_type                                        source  filled  \\\n",
       "0    Publication  PublicationSource.PUBLICATION_SEARCH_SNIPPET   False   \n",
       "\n",
       "   gsrank                                   author_id  \\\n",
       "0       1  [4bahYMkAAAAJ, ruUKktgAAAAJ, 9XRvM88AAAAJ]   \n",
       "\n",
       "                                      url_scholarbib  \\\n",
       "0  /scholar?hl=en&q=info:K8ZpoI6hZNoJ:scholar.goo...   \n",
       "\n",
       "                                       url_add_sclib  \\\n",
       "0  /citations?hl=en&xsrf=&continue=/scholar%3Fq%3...   \n",
       "\n",
       "                                         citedby_url  \\\n",
       "0  /scholar?cites=15736880631888070187&as_sdt=5,3...   \n",
       "\n",
       "                                url_related_articles  \\\n",
       "0  /scholar?q=related:K8ZpoI6hZNoJ:scholar.google...   \n",
       "\n",
       "                                          eprint_url  \n",
       "0  https://jov.arvojournals.org/article.aspx?arti...  "
      ]
     },
     "execution_count": 44,
     "metadata": {},
     "output_type": "execute_result"
    }
   ],
   "source": [
    "check = dict_to_df(test)\n",
    "check"
   ]
  },
  {
   "cell_type": "code",
   "execution_count": 47,
   "metadata": {},
   "outputs": [
    {
     "data": {
      "text/html": [
       "<div>\n",
       "<style scoped>\n",
       "    .dataframe tbody tr th:only-of-type {\n",
       "        vertical-align: middle;\n",
       "    }\n",
       "\n",
       "    .dataframe tbody tr th {\n",
       "        vertical-align: top;\n",
       "    }\n",
       "\n",
       "    .dataframe thead th {\n",
       "        text-align: right;\n",
       "    }\n",
       "</style>\n",
       "<table border=\"1\" class=\"dataframe\">\n",
       "  <thead>\n",
       "    <tr style=\"text-align: right;\">\n",
       "      <th></th>\n",
       "      <th>title</th>\n",
       "      <th>author</th>\n",
       "      <th>pub_year</th>\n",
       "      <th>venue</th>\n",
       "      <th>abstract</th>\n",
       "      <th>pub_url</th>\n",
       "      <th>num_citations</th>\n",
       "      <th>container_type</th>\n",
       "      <th>source</th>\n",
       "      <th>filled</th>\n",
       "      <th>gsrank</th>\n",
       "      <th>author_id</th>\n",
       "      <th>url_scholarbib</th>\n",
       "      <th>url_add_sclib</th>\n",
       "      <th>citedby_url</th>\n",
       "      <th>url_related_articles</th>\n",
       "      <th>eprint_url</th>\n",
       "    </tr>\n",
       "  </thead>\n",
       "  <tbody>\n",
       "    <tr>\n",
       "      <th>0</th>\n",
       "      <td>A new radiation</td>\n",
       "      <td>[CV Raman]</td>\n",
       "      <td>1928</td>\n",
       "      <td>Indian Journal of physics</td>\n",
       "      <td>to you on a new kind of radiation or lightemis...</td>\n",
       "      <td>http://repository.ias.ac.in/70648/1/36-PUb.pdf</td>\n",
       "      <td>1183</td>\n",
       "      <td>Publication</td>\n",
       "      <td>PublicationSource.PUBLICATION_SEARCH_SNIPPET</td>\n",
       "      <td>False</td>\n",
       "      <td>1</td>\n",
       "      <td>[]</td>\n",
       "      <td>/scholar?hl=en&amp;q=info:clWRkgwbzAIJ:scholar.goo...</td>\n",
       "      <td>/citations?hl=en&amp;xsrf=&amp;continue=/scholar%3Fq%3...</td>\n",
       "      <td>/scholar?cites=201565824137385330&amp;as_sdt=5,33&amp;...</td>\n",
       "      <td>/scholar?q=related:clWRkgwbzAIJ:scholar.google...</td>\n",
       "      <td>http://repository.ias.ac.in/70648/1/36-PUb.pdf</td>\n",
       "    </tr>\n",
       "  </tbody>\n",
       "</table>\n",
       "</div>"
      ],
      "text/plain": [
       "             title      author pub_year                      venue  \\\n",
       "0  A new radiation  [CV Raman]     1928  Indian Journal of physics   \n",
       "\n",
       "                                            abstract  \\\n",
       "0  to you on a new kind of radiation or lightemis...   \n",
       "\n",
       "                                          pub_url  num_citations  \\\n",
       "0  http://repository.ias.ac.in/70648/1/36-PUb.pdf           1183   \n",
       "\n",
       "  container_type                                        source  filled  \\\n",
       "0    Publication  PublicationSource.PUBLICATION_SEARCH_SNIPPET   False   \n",
       "\n",
       "   gsrank author_id                                     url_scholarbib  \\\n",
       "0       1        []  /scholar?hl=en&q=info:clWRkgwbzAIJ:scholar.goo...   \n",
       "\n",
       "                                       url_add_sclib  \\\n",
       "0  /citations?hl=en&xsrf=&continue=/scholar%3Fq%3...   \n",
       "\n",
       "                                         citedby_url  \\\n",
       "0  /scholar?cites=201565824137385330&as_sdt=5,33&...   \n",
       "\n",
       "                                url_related_articles  \\\n",
       "0  /scholar?q=related:clWRkgwbzAIJ:scholar.google...   \n",
       "\n",
       "                                       eprint_url  \n",
       "0  http://repository.ias.ac.in/70648/1/36-PUb.pdf  "
      ]
     },
     "execution_count": 47,
     "metadata": {},
     "output_type": "execute_result"
    }
   ],
   "source": [
    "search_query = scholarly.search_pubs('radiation')\n",
    "test2 = next(search_query)\n",
    "check2 = dict_to_df(test2)\n",
    "check2"
   ]
  },
  {
   "cell_type": "code",
   "execution_count": 52,
   "metadata": {},
   "outputs": [
    {
     "name": "stdout",
     "output_type": "stream",
     "text": [
      "b\"{'abstract': 'to you on a new kind of radiation or lightemission from atoms  , '\\n             'a few preliminary remarks  regarding radiation from atoms and  '\\n             'referred to as primary radiation. It is also possible to induce',\\n 'author': ['CV Raman'],\\n 'author_id': [''],\\n 'citedby_url': '/scholar?cites=201565824137385330&as_sdt=5,33&sciodt=0,33&hl=en',\\n 'eprint_url': 'http://repository.ias.ac.in/70648/1/36-PUb.pdf',\\n 'filled': False,\\n 'gsrank': 1,\\n 'num_citations': 1183,\\n 'pub_url': 'http://repository.ias.ac.in/70648/1/36-PUb.pdf',\\n 'pub_year': '1928',\\n 'source': 'PUBLICATION_SEARCH_SNIPPET',\\n 'title': 'A new radiation',\\n 'url_add_sclib': '/citations?hl=en&xsrf=&continue=/scholar%3Fq%3Dradiation%26hl%3Den%26as_sdt%3D0,33&citilm=1&update_op=library_add&info=clWRkgwbzAIJ&ei=Ok2HZNupHpX4yAS0qrSwDw&json=',\\n 'url_related_articles': '/scholar?q=related:clWRkgwbzAIJ:scholar.google.com/&scioq=radiation&hl=en&as_sdt=0,33',\\n 'url_scholarbib': '/scholar?hl=en&q=info:clWRkgwbzAIJ:scholar.google.com/&output=cite&scirp=0&hl=en',\\n 'venue': 'Indian Journal of physics'}\"\n"
     ]
    }
   ],
   "source": [
    "scholarly.pprint(test2)"
   ]
  }
 ],
 "metadata": {
  "kernelspec": {
   "display_name": "DoD-XForce",
   "language": "python",
   "name": "python3"
  },
  "language_info": {
   "codemirror_mode": {
    "name": "ipython",
    "version": 3
   },
   "file_extension": ".py",
   "mimetype": "text/x-python",
   "name": "python",
   "nbconvert_exporter": "python",
   "pygments_lexer": "ipython3",
   "version": "3.11.3"
  },
  "orig_nbformat": 4
 },
 "nbformat": 4,
 "nbformat_minor": 2
}
