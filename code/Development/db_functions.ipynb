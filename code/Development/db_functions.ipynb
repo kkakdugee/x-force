{
 "cells": [
  {
   "cell_type": "code",
   "execution_count": 2,
   "metadata": {},
   "outputs": [
    {
     "name": "stderr",
     "output_type": "stream",
     "text": [
      "[nltk_data] Downloading package stopwords to\n",
      "[nltk_data]     C:\\Users\\chris\\AppData\\Roaming\\nltk_data...\n",
      "[nltk_data]   Package stopwords is already up-to-date!\n"
     ]
    }
   ],
   "source": [
    "import sys\n",
    "import warnings\n",
    "from pandas.errors import SettingWithCopyWarning\n",
    "warnings.simplefilter(action=\"ignore\", category=SettingWithCopyWarning)\n",
    "warnings.simplefilter(action='ignore', category=FutureWarning)\n",
    "sys.path.append(\"../Modules/\")\n",
    "import helper"
   ]
  },
  {
   "cell_type": "code",
   "execution_count": 12,
   "metadata": {},
   "outputs": [],
   "source": [
    "default_temp = helper.DEFAULT_DATABASE_FILEPATH"
   ]
  },
  {
   "cell_type": "code",
   "execution_count": 18,
   "metadata": {},
   "outputs": [],
   "source": [
    "class XForce_Database():\n",
    "    def __init__(self) -> None:\n",
    "        self._selected_db = None\n",
    "        self._selected_db_filepath = None\n",
    "        self._selected_db_length = None\n",
    "        self._selected_db_headers = None\n",
    "\n",
    "        self._current_working_db = None\n",
    "        self._current_working_db_filepath = None\n",
    "        self._current_working_db_length = None\n",
    "        self._current_working_db_headers = None\n",
    "        \n",
    "        # temp, move this function into app.py\n",
    "        self.select_db(default_temp)\n",
    "        return None\n",
    "\n",
    "    def select_db(self, path) -> None:\n",
    "        df = helper.pd.read_csv(path)\n",
    "\n",
    "        self._selected_db = df\n",
    "        self._selected_db_filepath = path\n",
    "        self._selected_db_length = df.columns.tolist()\n",
    "        self._selected_db_headers = len(df)\n",
    "\n",
    "        self._current_working_db = df\n",
    "        self._current_working_db_filepath = path\n",
    "        self._current_working_db_length = df.columns.tolist()\n",
    "        self._current_working_db_headers = len(df)\n",
    "\n",
    "        print(f\"{path.split('/')[-1]} loaded!\")\n",
    "        return None\n",
    "    \n",
    "    def clear_db_filters(self) -> None:\n",
    "        \"\"\" \n",
    "        # TODO documentation\n",
    "        undoes all the filtering/sorting by returning the current working db ot the original state\n",
    "        \"\"\"\n",
    "        self._current_working_db = self._selected_db\n",
    "        self._current_working_db_filepath = self._selected_db_filepath\n",
    "        self._current_working_db_length = self._selected_db_length\n",
    "        self._current_working_db_headers = self._selected_db_headers\n",
    "\n",
    "        print(f\"All filters and sorts made on {self._current_working_db_filepath.split('/')[-1]} has been reset!\")\n",
    "        return None\n",
    "    \n",
    "    def new_db(self, name) -> None:\n",
    "        \"\"\" \n",
    "        # TODO documentation\n",
    "        creates a new, empty db for data population and automatically switches to that new one\n",
    "        \"\"\"\n",
    "        df = helper.pd.DataFrame(columns=helper.MASTER_CSV_COLUMNS)\n",
    "        new_filepath = helper.DEFAULT_FOLDER_FOR_DATABASE_FILEPATH + name + \".csv\"\n",
    "        try:\n",
    "            df.to_csv(new_filepath, index=False)\n",
    "            self.select_db(new_filepath)\n",
    "            print(f\"Switching over to {name}!\")\n",
    "        except:\n",
    "            print(\"Failed to save.\")\n",
    "        return None\n",
    "    \n",
    "    def reset_db(self) -> None:\n",
    "        \"\"\"\n",
    "        # TODO documentation\n",
    "        wipes the entries in a db and auto switchign to it\n",
    "        \"\"\"\n",
    "        print(\"By reseting or wiping a database, you are removing the entries within it but not deleting the file itself.\")\n",
    "        file_names = helper.os.listdir(helper.DEFAULT_FOLDER_FOR_DATABASE_FILEPATH)\n",
    "        extracted_file_names = [i.split(\".\")[0] for i in file_names]\n",
    "        # Warning menu\n",
    "        while True:\n",
    "            user_input = input(\"Which database would you like to reset/wipe? (n) to cancel.\")\n",
    "            if user_input in [\"n\", '\"n\"', \"'n'\", \"(n)\"]:\n",
    "                print(\"Canceling function.\")\n",
    "                return None\n",
    "            elif user_input in extracted_file_names:\n",
    "                print(f\"Proceeding to reset/wipe {user_input + '.csv'}.\")\n",
    "                break\n",
    "            else:\n",
    "                print(\"File name not found. Try again or type (n) to cancel.\")\n",
    "    \n",
    "        if user_input == \"demo_db\" or user_input == \"demo_edgelist\":\n",
    "            print(\"You are not allowed to reset/wipe this file at the moment, as it contains 11hr+ of NLP cleaning necessary for MVP.\")\n",
    "        else: \n",
    "            df = helper.pd.DataFrame(columns=helper.MASTER_CSV_COLUMNS)\n",
    "            try:\n",
    "                df.to_csv(helper.DEFAULT_FOLDER_FOR_DATABASE_FILEPATH + user_input + \".csv\", index=False)\n",
    "                self.select_db(helper.DEFAULT_FOLDER_FOR_DATABASE_FILEPATH + user_input + \".csv\")\n",
    "                print(f\"Switching over to {user_input}!\")\n",
    "            except:\n",
    "                print(\"Failed to save. Is this current .csv currently open on your computer?\")\n",
    "        return None\n",
    "\n",
    "    def delete_db(self) -> None:\n",
    "        \"\"\" \n",
    "        # TODO documentation\n",
    "        deletes the specified db\n",
    "        \"\"\"\n",
    "        print(\"By removing the file itself, this database will no longer appear in the selection dropdown.\")\n",
    "        file_names = helper.os.listdir(helper.DEFAULT_FOLDER_FOR_DATABASE_FILEPATH)\n",
    "        extracted_file_names = [i.split(\".\")[0] for i in file_names]\n",
    "        # Warning menu\n",
    "        while True:\n",
    "            user_input = input(\"Which database would you like to delete? (n) to cancel.\")\n",
    "            if user_input in [\"n\", '\"n\"', \"'n'\", \"(n)\"]:\n",
    "                print(\"Canceling function.\")\n",
    "                return None\n",
    "            elif user_input in extracted_file_names:\n",
    "                print(f\"Proceeding to delete {user_input + '.csv'}.\")\n",
    "                break\n",
    "            else:\n",
    "                print(\"File name not found. Try again or type (n) to cancel.\")\n",
    "\n",
    "        if user_input == \"demo_db\" or user_input == \"demo_edgelist\":\n",
    "            print(\"You are not allowed to remove this file at the moment, as it contains 11hr+ of NLP cleaning necessary for MVP.\")\n",
    "        else: \n",
    "            helper.os.remove(helper.DEFAULT_FOLDER_FOR_DATABASE_FILEPATH + user_input + \".csv\")\n",
    "        return None\n",
    "\n",
    "    def get_selected_db(self):\n",
    "        return self._selected_db.copy()\n",
    "    \n",
    "    def get_selected_db_filepath(self):\n",
    "        return self._selected_db_filepath\n",
    "\n",
    "    def get_selected_db_length(self):\n",
    "        return self._selected_db_length\n",
    "\n",
    "    def get_selected_db_headers(self):\n",
    "        return self._selected_db_headers\n",
    "    \n",
    "    def get_current_working_db(self):\n",
    "        return self._current_working_db.copy()\n",
    "    \n",
    "    def confirm(self) -> None:\n",
    "        print(\"Confirming current filters/sorts. Will use this filtered/sorted data for graphing!\")\n",
    "        self._current_working_db.to_csv(helper.DEFAULT_CURR_WORKING_DATABASE_FILEPATH)\n",
    "        return None\n",
    "    \n",
    "    def filter_rows(self) -> None:\n",
    "        return None\n",
    "    \n",
    "    def sort_db(self, is_ascending: bool=True, sort_on: str=\"published\") -> None:\n",
    "        \n",
    "        return None\n",
    "    \n",
    "    def dedupe_db(self) -> None:\n",
    "        user_ans = input(\"As opposed to filtering/sorting, which just changes the current working view of the database, this command will change the database itself. Continue? (y/n)\")\n",
    "\n",
    "        return None\n",
    "\n",
    "    def load(self) -> None:\n",
    "        return None"
   ]
  },
  {
   "cell_type": "code",
   "execution_count": 20,
   "metadata": {},
   "outputs": [
    {
     "name": "stdout",
     "output_type": "stream",
     "text": [
      "complete_db.csv loaded!\n"
     ]
    },
    {
     "ename": "TypeError",
     "evalue": "XForce_Database.reset_papers_db() takes 1 positional argument but 2 were given",
     "output_type": "error",
     "traceback": [
      "\u001b[1;31m---------------------------------------------------------------------------\u001b[0m",
      "\u001b[1;31mTypeError\u001b[0m                                 Traceback (most recent call last)",
      "Cell \u001b[1;32mIn[20], line 2\u001b[0m\n\u001b[0;32m      1\u001b[0m test \u001b[39m=\u001b[39m XForce_Database()\n\u001b[1;32m----> 2\u001b[0m test\u001b[39m.\u001b[39;49mreset_papers_db(\u001b[39m\"\u001b[39;49m\u001b[39mtester\u001b[39;49m\u001b[39m\"\u001b[39;49m)\n",
      "\u001b[1;31mTypeError\u001b[0m: XForce_Database.reset_papers_db() takes 1 positional argument but 2 were given"
     ]
    }
   ],
   "source": [
    "test = XForce_Database()\n",
    "test.reset_papers_db(\"tester\")"
   ]
  },
  {
   "cell_type": "code",
   "execution_count": 7,
   "metadata": {},
   "outputs": [
    {
     "data": {
      "text/plain": [
       "'../../data/hi'"
      ]
     },
     "execution_count": 7,
     "metadata": {},
     "output_type": "execute_result"
    }
   ],
   "source": []
  }
 ],
 "metadata": {
  "kernelspec": {
   "display_name": "xforce",
   "language": "python",
   "name": "python3"
  },
  "language_info": {
   "codemirror_mode": {
    "name": "ipython",
    "version": 3
   },
   "file_extension": ".py",
   "mimetype": "text/x-python",
   "name": "python",
   "nbconvert_exporter": "python",
   "pygments_lexer": "ipython3",
   "version": "3.11.4"
  },
  "orig_nbformat": 4
 },
 "nbformat": 4,
 "nbformat_minor": 2
}
